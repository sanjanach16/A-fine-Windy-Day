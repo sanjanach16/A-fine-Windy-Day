{
  "nbformat": 4,
  "nbformat_minor": 0,
  "metadata": {
    "colab": {
      "name": "A_Fine_Windy_Day.ipynb",
      "provenance": [],
      "collapsed_sections": []
    },
    "kernelspec": {
      "display_name": "Python 3",
      "name": "python3"
    },
    "language_info": {
      "name": "python"
    }
  },
  "cells": [
    {
      "cell_type": "markdown",
      "metadata": {
        "id": "WFKyqDonX1hy"
      },
      "source": [
        "**Importing Libraries**"
      ]
    },
    {
      "cell_type": "code",
      "metadata": {
        "id": "TvuKyM4BX92F"
      },
      "source": [
        "import pandas as pd\n",
        "import numpy as np\n",
        "import matplotlib.pyplot as plt\n",
        "import seaborn as sns\n",
        "from xgboost import XGBRegressor\n",
        "from sklearn.metrics import r2_score"
      ],
      "execution_count": null,
      "outputs": []
    },
    {
      "cell_type": "markdown",
      "metadata": {
        "id": "5fIa4WF0YC9O"
      },
      "source": [
        "**Reading the data**"
      ]
    },
    {
      "cell_type": "code",
      "metadata": {
        "colab": {
          "background_save": true
        },
        "id": "QnTqkrH8X_Ww",
        "outputId": "ea8db6af-82df-4e5c-f0c1-3da9c13dfa5e"
      },
      "source": [
        "from google.colab import drive\n",
        "drive.mount('/content/gdrive')"
      ],
      "execution_count": null,
      "outputs": [
        {
          "name": "stdout",
          "output_type": "stream",
          "text": [
            "Mounted at /content/gdrive\n"
          ]
        }
      ]
    },
    {
      "cell_type": "code",
      "metadata": {
        "colab": {
          "background_save": true
        },
        "id": "MHlXAjPYYGrE"
      },
      "source": [
        "train = pd.read_csv('/content/gdrive/MyDrive/wind_train.csv')"
      ],
      "execution_count": null,
      "outputs": []
    },
    {
      "cell_type": "code",
      "metadata": {
        "colab": {
          "background_save": true
        },
        "id": "Oi1p0rZskAyi"
      },
      "source": [
        "test = pd.read_csv('/content/gdrive/MyDrive/wind_test.csv')"
      ],
      "execution_count": null,
      "outputs": []
    },
    {
      "cell_type": "markdown",
      "metadata": {
        "id": "BVlyy9I2nm4q"
      },
      "source": [
        "**Preprocessing the train dataset**"
      ]
    },
    {
      "cell_type": "code",
      "metadata": {
        "colab": {
          "background_save": true
        },
        "id": "2LwdbbCKmnOP",
        "outputId": "08a24be9-b062-4605-9839-d82615501b39"
      },
      "source": [
        "train.head()"
      ],
      "execution_count": null,
      "outputs": [
        {
          "data": {
            "text/html": [
              "<div>\n",
              "<style scoped>\n",
              "    .dataframe tbody tr th:only-of-type {\n",
              "        vertical-align: middle;\n",
              "    }\n",
              "\n",
              "    .dataframe tbody tr th {\n",
              "        vertical-align: top;\n",
              "    }\n",
              "\n",
              "    .dataframe thead th {\n",
              "        text-align: right;\n",
              "    }\n",
              "</style>\n",
              "<table border=\"1\" class=\"dataframe\">\n",
              "  <thead>\n",
              "    <tr style=\"text-align: right;\">\n",
              "      <th></th>\n",
              "      <th>tracking_id</th>\n",
              "      <th>datetime</th>\n",
              "      <th>wind_speed(m/s)</th>\n",
              "      <th>atmospheric_temperature(°C)</th>\n",
              "      <th>shaft_temperature(°C)</th>\n",
              "      <th>blades_angle(°)</th>\n",
              "      <th>gearbox_temperature(°C)</th>\n",
              "      <th>engine_temperature(°C)</th>\n",
              "      <th>motor_torque(N-m)</th>\n",
              "      <th>generator_temperature(°C)</th>\n",
              "      <th>atmospheric_pressure(Pascal)</th>\n",
              "      <th>area_temperature(°C)</th>\n",
              "      <th>windmill_body_temperature(°C)</th>\n",
              "      <th>wind_direction(°)</th>\n",
              "      <th>resistance(ohm)</th>\n",
              "      <th>rotor_torque(N-m)</th>\n",
              "      <th>turbine_status</th>\n",
              "      <th>cloud_level</th>\n",
              "      <th>blade_length(m)</th>\n",
              "      <th>blade_breadth(m)</th>\n",
              "      <th>windmill_height(m)</th>\n",
              "      <th>windmill_generated_power(kW/h)</th>\n",
              "    </tr>\n",
              "  </thead>\n",
              "  <tbody>\n",
              "    <tr>\n",
              "      <th>0</th>\n",
              "      <td>WM_33725</td>\n",
              "      <td>8/4/2019 14:33</td>\n",
              "      <td>94.820023</td>\n",
              "      <td>-99.000000</td>\n",
              "      <td>41.723019</td>\n",
              "      <td>-0.903423</td>\n",
              "      <td>82.410573</td>\n",
              "      <td>42.523015</td>\n",
              "      <td>2563.124522</td>\n",
              "      <td>76.665560</td>\n",
              "      <td>103402.96190</td>\n",
              "      <td>26.897875</td>\n",
              "      <td>NaN</td>\n",
              "      <td>239.836388</td>\n",
              "      <td>2730.310605</td>\n",
              "      <td>42.084666</td>\n",
              "      <td>BA</td>\n",
              "      <td>Medium</td>\n",
              "      <td>2.217542</td>\n",
              "      <td>0.314065</td>\n",
              "      <td>24.281689</td>\n",
              "      <td>6.766521</td>\n",
              "    </tr>\n",
              "    <tr>\n",
              "      <th>1</th>\n",
              "      <td>WM_698</td>\n",
              "      <td>11/5/2018 10:13</td>\n",
              "      <td>241.832734</td>\n",
              "      <td>27.764785</td>\n",
              "      <td>-99.000000</td>\n",
              "      <td>-99.000000</td>\n",
              "      <td>44.104919</td>\n",
              "      <td>46.258870</td>\n",
              "      <td>2372.384119</td>\n",
              "      <td>78.129803</td>\n",
              "      <td>17030.90408</td>\n",
              "      <td>39.801469</td>\n",
              "      <td>NaN</td>\n",
              "      <td>337.944723</td>\n",
              "      <td>1780.207200</td>\n",
              "      <td>107.888643</td>\n",
              "      <td>A2</td>\n",
              "      <td>Medium</td>\n",
              "      <td>4.210346</td>\n",
              "      <td>0.448494</td>\n",
              "      <td>27.262139</td>\n",
              "      <td>5.966275</td>\n",
              "    </tr>\n",
              "    <tr>\n",
              "      <th>2</th>\n",
              "      <td>WM_39146</td>\n",
              "      <td>9/14/2019 14:03</td>\n",
              "      <td>95.484724</td>\n",
              "      <td>NaN</td>\n",
              "      <td>41.855473</td>\n",
              "      <td>12.652763</td>\n",
              "      <td>42.322098</td>\n",
              "      <td>42.878552</td>\n",
              "      <td>1657.169646</td>\n",
              "      <td>67.654469</td>\n",
              "      <td>16125.92711</td>\n",
              "      <td>36.116065</td>\n",
              "      <td>45.033197</td>\n",
              "      <td>227.850294</td>\n",
              "      <td>1666.049900</td>\n",
              "      <td>-42.931459</td>\n",
              "      <td>ABC</td>\n",
              "      <td>Medium</td>\n",
              "      <td>2.719475</td>\n",
              "      <td>0.302321</td>\n",
              "      <td>27.366127</td>\n",
              "      <td>2.874342</td>\n",
              "    </tr>\n",
              "    <tr>\n",
              "      <th>3</th>\n",
              "      <td>WM_6757</td>\n",
              "      <td>12/25/2018 15:33</td>\n",
              "      <td>238.819424</td>\n",
              "      <td>-99.000000</td>\n",
              "      <td>45.443914</td>\n",
              "      <td>15.115323</td>\n",
              "      <td>44.759643</td>\n",
              "      <td>47.282101</td>\n",
              "      <td>2888.134079</td>\n",
              "      <td>95.389974</td>\n",
              "      <td>18689.73234</td>\n",
              "      <td>46.020045</td>\n",
              "      <td>44.827154</td>\n",
              "      <td>492.081520</td>\n",
              "      <td>1964.502895</td>\n",
              "      <td>42.744596</td>\n",
              "      <td>ABC</td>\n",
              "      <td>NaN</td>\n",
              "      <td>4.857385</td>\n",
              "      <td>0.367140</td>\n",
              "      <td>24.287767</td>\n",
              "      <td>14.851089</td>\n",
              "    </tr>\n",
              "    <tr>\n",
              "      <th>4</th>\n",
              "      <td>WM_21521</td>\n",
              "      <td>5/4/2019 3:13</td>\n",
              "      <td>10.722890</td>\n",
              "      <td>NaN</td>\n",
              "      <td>41.981183</td>\n",
              "      <td>1.715696</td>\n",
              "      <td>-17.616459</td>\n",
              "      <td>43.469852</td>\n",
              "      <td>781.695419</td>\n",
              "      <td>37.423065</td>\n",
              "      <td>114468.16900</td>\n",
              "      <td>34.572941</td>\n",
              "      <td>-99.000000</td>\n",
              "      <td>259.274601</td>\n",
              "      <td>1177.516152</td>\n",
              "      <td>13.387289</td>\n",
              "      <td>AAA</td>\n",
              "      <td>Medium</td>\n",
              "      <td>NaN</td>\n",
              "      <td>0.453374</td>\n",
              "      <td>27.971650</td>\n",
              "      <td>3.519074</td>\n",
              "    </tr>\n",
              "  </tbody>\n",
              "</table>\n",
              "</div>"
            ],
            "text/plain": [
              "  tracking_id  ... windmill_generated_power(kW/h)\n",
              "0    WM_33725  ...                       6.766521\n",
              "1      WM_698  ...                       5.966275\n",
              "2    WM_39146  ...                       2.874342\n",
              "3     WM_6757  ...                      14.851089\n",
              "4    WM_21521  ...                       3.519074\n",
              "\n",
              "[5 rows x 22 columns]"
            ]
          },
          "execution_count": null,
          "metadata": {},
          "output_type": "execute_result"
        }
      ]
    },
    {
      "cell_type": "code",
      "metadata": {
        "colab": {
          "background_save": true
        },
        "id": "vOFx8skcnwSF",
        "outputId": "5def7b4c-9053-44fe-a4dc-0f5bbf90c89a"
      },
      "source": [
        "train.shape"
      ],
      "execution_count": null,
      "outputs": [
        {
          "data": {
            "text/plain": [
              "(28200, 22)"
            ]
          },
          "execution_count": null,
          "metadata": {},
          "output_type": "execute_result"
        }
      ]
    },
    {
      "cell_type": "code",
      "metadata": {
        "colab": {
          "background_save": true
        },
        "id": "po_7Qb1fnx35",
        "outputId": "b6519e7a-2218-4a96-b025-acb32eef8f09"
      },
      "source": [
        "train.info()"
      ],
      "execution_count": null,
      "outputs": [
        {
          "name": "stdout",
          "output_type": "stream",
          "text": [
            "<class 'pandas.core.frame.DataFrame'>\n",
            "RangeIndex: 28200 entries, 0 to 28199\n",
            "Data columns (total 22 columns):\n",
            " #   Column                          Non-Null Count  Dtype  \n",
            "---  ------                          --------------  -----  \n",
            " 0   tracking_id                     28200 non-null  object \n",
            " 1   datetime                        28200 non-null  object \n",
            " 2   wind_speed(m/s)                 27927 non-null  float64\n",
            " 3   atmospheric_temperature(°C)     24750 non-null  float64\n",
            " 4   shaft_temperature(°C)           28198 non-null  float64\n",
            " 5   blades_angle(°)                 27984 non-null  float64\n",
            " 6   gearbox_temperature(°C)         28199 non-null  float64\n",
            " 7   engine_temperature(°C)          28188 non-null  float64\n",
            " 8   motor_torque(N-m)               28176 non-null  float64\n",
            " 9   generator_temperature(°C)       28188 non-null  float64\n",
            " 10  atmospheric_pressure(Pascal)    25493 non-null  float64\n",
            " 11  area_temperature(°C)            28200 non-null  float64\n",
            " 12  windmill_body_temperature(°C)   25837 non-null  float64\n",
            " 13  wind_direction(°)               23097 non-null  float64\n",
            " 14  resistance(ohm)                 28199 non-null  float64\n",
            " 15  rotor_torque(N-m)               27628 non-null  float64\n",
            " 16  turbine_status                  26441 non-null  object \n",
            " 17  cloud_level                     27924 non-null  object \n",
            " 18  blade_length(m)                 23107 non-null  float64\n",
            " 19  blade_breadth(m)                28200 non-null  float64\n",
            " 20  windmill_height(m)              27657 non-null  float64\n",
            " 21  windmill_generated_power(kW/h)  27993 non-null  float64\n",
            "dtypes: float64(18), object(4)\n",
            "memory usage: 4.7+ MB\n"
          ]
        }
      ]
    },
    {
      "cell_type": "code",
      "metadata": {
        "colab": {
          "background_save": true
        },
        "id": "6MitoQPhn1Nq",
        "outputId": "fdb076f1-0872-4d66-a927-937394c3ce57"
      },
      "source": [
        "train.describe()"
      ],
      "execution_count": null,
      "outputs": [
        {
          "data": {
            "text/html": [
              "<div>\n",
              "<style scoped>\n",
              "    .dataframe tbody tr th:only-of-type {\n",
              "        vertical-align: middle;\n",
              "    }\n",
              "\n",
              "    .dataframe tbody tr th {\n",
              "        vertical-align: top;\n",
              "    }\n",
              "\n",
              "    .dataframe thead th {\n",
              "        text-align: right;\n",
              "    }\n",
              "</style>\n",
              "<table border=\"1\" class=\"dataframe\">\n",
              "  <thead>\n",
              "    <tr style=\"text-align: right;\">\n",
              "      <th></th>\n",
              "      <th>wind_speed(m/s)</th>\n",
              "      <th>atmospheric_temperature(°C)</th>\n",
              "      <th>shaft_temperature(°C)</th>\n",
              "      <th>blades_angle(°)</th>\n",
              "      <th>gearbox_temperature(°C)</th>\n",
              "      <th>engine_temperature(°C)</th>\n",
              "      <th>motor_torque(N-m)</th>\n",
              "      <th>generator_temperature(°C)</th>\n",
              "      <th>atmospheric_pressure(Pascal)</th>\n",
              "      <th>area_temperature(°C)</th>\n",
              "      <th>windmill_body_temperature(°C)</th>\n",
              "      <th>wind_direction(°)</th>\n",
              "      <th>resistance(ohm)</th>\n",
              "      <th>rotor_torque(N-m)</th>\n",
              "      <th>blade_length(m)</th>\n",
              "      <th>blade_breadth(m)</th>\n",
              "      <th>windmill_height(m)</th>\n",
              "      <th>windmill_generated_power(kW/h)</th>\n",
              "    </tr>\n",
              "  </thead>\n",
              "  <tbody>\n",
              "    <tr>\n",
              "      <th>count</th>\n",
              "      <td>27927.000000</td>\n",
              "      <td>24750.000000</td>\n",
              "      <td>28198.000000</td>\n",
              "      <td>27984.000000</td>\n",
              "      <td>28199.000000</td>\n",
              "      <td>28188.000000</td>\n",
              "      <td>28176.000000</td>\n",
              "      <td>28188.000000</td>\n",
              "      <td>2.549300e+04</td>\n",
              "      <td>28200.000000</td>\n",
              "      <td>25837.000000</td>\n",
              "      <td>23097.000000</td>\n",
              "      <td>28199.000000</td>\n",
              "      <td>27628.000000</td>\n",
              "      <td>23107.000000</td>\n",
              "      <td>28200.000000</td>\n",
              "      <td>27657.000000</td>\n",
              "      <td>27993.000000</td>\n",
              "    </tr>\n",
              "    <tr>\n",
              "      <th>mean</th>\n",
              "      <td>69.037071</td>\n",
              "      <td>0.383727</td>\n",
              "      <td>40.085387</td>\n",
              "      <td>-9.654038</td>\n",
              "      <td>41.027755</td>\n",
              "      <td>42.614239</td>\n",
              "      <td>1710.819803</td>\n",
              "      <td>65.027857</td>\n",
              "      <td>5.318506e+04</td>\n",
              "      <td>32.735091</td>\n",
              "      <td>20.799761</td>\n",
              "      <td>306.888883</td>\n",
              "      <td>1575.560011</td>\n",
              "      <td>25.849894</td>\n",
              "      <td>2.254034</td>\n",
              "      <td>0.397249</td>\n",
              "      <td>25.887052</td>\n",
              "      <td>6.130529</td>\n",
              "    </tr>\n",
              "    <tr>\n",
              "      <th>std</th>\n",
              "      <td>76.275645</td>\n",
              "      <td>44.278534</td>\n",
              "      <td>27.204430</td>\n",
              "      <td>47.918161</td>\n",
              "      <td>43.663605</td>\n",
              "      <td>6.124546</td>\n",
              "      <td>827.205537</td>\n",
              "      <td>19.816499</td>\n",
              "      <td>1.875036e+05</td>\n",
              "      <td>7.703391</td>\n",
              "      <td>54.356431</td>\n",
              "      <td>134.055900</td>\n",
              "      <td>483.326394</td>\n",
              "      <td>32.423943</td>\n",
              "      <td>11.275602</td>\n",
              "      <td>0.061158</td>\n",
              "      <td>7.773609</td>\n",
              "      <td>2.697520</td>\n",
              "    </tr>\n",
              "    <tr>\n",
              "      <th>min</th>\n",
              "      <td>-496.211029</td>\n",
              "      <td>-99.000000</td>\n",
              "      <td>-99.000000</td>\n",
              "      <td>-146.259543</td>\n",
              "      <td>-244.974098</td>\n",
              "      <td>3.167151</td>\n",
              "      <td>500.000000</td>\n",
              "      <td>33.893779</td>\n",
              "      <td>-1.188624e+06</td>\n",
              "      <td>-30.000000</td>\n",
              "      <td>-999.000000</td>\n",
              "      <td>0.000000</td>\n",
              "      <td>-1005.222988</td>\n",
              "      <td>-136.732217</td>\n",
              "      <td>-99.000000</td>\n",
              "      <td>0.200111</td>\n",
              "      <td>-30.295253</td>\n",
              "      <td>0.962305</td>\n",
              "    </tr>\n",
              "    <tr>\n",
              "      <th>25%</th>\n",
              "      <td>20.883502</td>\n",
              "      <td>7.948900</td>\n",
              "      <td>41.633238</td>\n",
              "      <td>-1.197652</td>\n",
              "      <td>40.557952</td>\n",
              "      <td>41.911365</td>\n",
              "      <td>870.340239</td>\n",
              "      <td>41.198509</td>\n",
              "      <td>1.679492e+04</td>\n",
              "      <td>27.311644</td>\n",
              "      <td>40.448386</td>\n",
              "      <td>238.627752</td>\n",
              "      <td>1268.134042</td>\n",
              "      <td>13.722808</td>\n",
              "      <td>2.544859</td>\n",
              "      <td>0.347445</td>\n",
              "      <td>24.447658</td>\n",
              "      <td>4.059505</td>\n",
              "    </tr>\n",
              "    <tr>\n",
              "      <th>50%</th>\n",
              "      <td>93.302129</td>\n",
              "      <td>16.102410</td>\n",
              "      <td>43.686082</td>\n",
              "      <td>-0.495608</td>\n",
              "      <td>43.221735</td>\n",
              "      <td>43.525297</td>\n",
              "      <td>2031.849540</td>\n",
              "      <td>70.729533</td>\n",
              "      <td>1.819113e+04</td>\n",
              "      <td>32.605195</td>\n",
              "      <td>42.786832</td>\n",
              "      <td>271.427656</td>\n",
              "      <td>1678.238404</td>\n",
              "      <td>32.977192</td>\n",
              "      <td>3.453333</td>\n",
              "      <td>0.398591</td>\n",
              "      <td>25.957739</td>\n",
              "      <td>5.764710</td>\n",
              "    </tr>\n",
              "    <tr>\n",
              "      <th>75%</th>\n",
              "      <td>95.268058</td>\n",
              "      <td>23.687285</td>\n",
              "      <td>45.673685</td>\n",
              "      <td>5.495030</td>\n",
              "      <td>45.879425</td>\n",
              "      <td>45.174246</td>\n",
              "      <td>2462.585729</td>\n",
              "      <td>78.945849</td>\n",
              "      <td>1.181133e+05</td>\n",
              "      <td>38.232387</td>\n",
              "      <td>44.494543</td>\n",
              "      <td>404.153517</td>\n",
              "      <td>1829.054007</td>\n",
              "      <td>41.550520</td>\n",
              "      <td>4.357862</td>\n",
              "      <td>0.449354</td>\n",
              "      <td>27.477854</td>\n",
              "      <td>7.947195</td>\n",
              "    </tr>\n",
              "    <tr>\n",
              "      <th>max</th>\n",
              "      <td>601.455670</td>\n",
              "      <td>80.217444</td>\n",
              "      <td>169.820455</td>\n",
              "      <td>165.932123</td>\n",
              "      <td>999.000000</td>\n",
              "      <td>50.000000</td>\n",
              "      <td>3000.000000</td>\n",
              "      <td>100.000000</td>\n",
              "      <td>1.272552e+06</td>\n",
              "      <td>55.000000</td>\n",
              "      <td>323.000000</td>\n",
              "      <td>569.966479</td>\n",
              "      <td>4693.481933</td>\n",
              "      <td>236.883264</td>\n",
              "      <td>18.209800</td>\n",
              "      <td>0.499975</td>\n",
              "      <td>78.351335</td>\n",
              "      <td>20.175358</td>\n",
              "    </tr>\n",
              "  </tbody>\n",
              "</table>\n",
              "</div>"
            ],
            "text/plain": [
              "       wind_speed(m/s)  ...  windmill_generated_power(kW/h)\n",
              "count     27927.000000  ...                    27993.000000\n",
              "mean         69.037071  ...                        6.130529\n",
              "std          76.275645  ...                        2.697520\n",
              "min        -496.211029  ...                        0.962305\n",
              "25%          20.883502  ...                        4.059505\n",
              "50%          93.302129  ...                        5.764710\n",
              "75%          95.268058  ...                        7.947195\n",
              "max         601.455670  ...                       20.175358\n",
              "\n",
              "[8 rows x 18 columns]"
            ]
          },
          "execution_count": null,
          "metadata": {},
          "output_type": "execute_result"
        }
      ]
    },
    {
      "cell_type": "markdown",
      "metadata": {
        "id": "qgItPOgNn-1K"
      },
      "source": [
        "**Handling NaN Values**"
      ]
    },
    {
      "cell_type": "code",
      "metadata": {
        "colab": {
          "background_save": true
        },
        "id": "lc1TxBOjn7IE",
        "outputId": "76ff8820-64bd-448b-e569-05b370448b5b"
      },
      "source": [
        "train.isnull().sum()"
      ],
      "execution_count": null,
      "outputs": [
        {
          "data": {
            "text/plain": [
              "tracking_id                          0\n",
              "datetime                             0\n",
              "wind_speed(m/s)                    273\n",
              "atmospheric_temperature(°C)       3450\n",
              "shaft_temperature(°C)                2\n",
              "blades_angle(°)                    216\n",
              "gearbox_temperature(°C)              1\n",
              "engine_temperature(°C)              12\n",
              "motor_torque(N-m)                   24\n",
              "generator_temperature(°C)           12\n",
              "atmospheric_pressure(Pascal)      2707\n",
              "area_temperature(°C)                 0\n",
              "windmill_body_temperature(°C)     2363\n",
              "wind_direction(°)                 5103\n",
              "resistance(ohm)                      1\n",
              "rotor_torque(N-m)                  572\n",
              "turbine_status                    1759\n",
              "cloud_level                        276\n",
              "blade_length(m)                   5093\n",
              "blade_breadth(m)                     0\n",
              "windmill_height(m)                 543\n",
              "windmill_generated_power(kW/h)     207\n",
              "dtype: int64"
            ]
          },
          "execution_count": null,
          "metadata": {},
          "output_type": "execute_result"
        }
      ]
    },
    {
      "cell_type": "code",
      "metadata": {
        "colab": {
          "background_save": true
        },
        "id": "_bnCNMgAoE2u",
        "outputId": "cd3cd325-51af-4ce0-a9a4-5527e3882ea9"
      },
      "source": [
        "sns.heatmap(train.isnull(),yticklabels=False,cbar=False,cmap=\"viridis\")"
      ],
      "execution_count": null,
      "outputs": [
        {
          "data": {
            "text/plain": [
              "<matplotlib.axes._subplots.AxesSubplot at 0x7f9f03250b50>"
            ]
          },
          "execution_count": null,
          "metadata": {},
          "output_type": "execute_result"
        },
        {
          "data": {
            "image/png": "[encoded data removed]",
            "text/plain": [
              "<Figure size 432x288 with 1 Axes>"
            ]
          },
          "metadata": {},
          "output_type": "display_data"
        }
      ]
    },
    {
      "cell_type": "code",
      "metadata": {
        "colab": {
          "background_save": true
        },
        "id": "Z63cvjSooTit"
      },
      "source": [
        "train =  train.fillna({\n",
        "    \"wind_speed(m/s)\" : train[\"wind_speed(m/s)\"].mean(),\n",
        "    \"atmospheric_temperature(°C)\" : train[\"atmospheric_temperature(°C)\"].mean(),\n",
        "    \"shaft_temperature(°C)\" : train[\"shaft_temperature(°C)\"].mean(),\n",
        "    \"blades_angle(°)\" : train[\"blades_angle(°)\"].mean(),\n",
        "    \"gearbox_temperature(°C)\" : train[\"gearbox_temperature(°C)\"].mean(),\n",
        "    \"engine_temperature(°C)\" : train[\"engine_temperature(°C)\"].mean(),\n",
        "    \"motor_torque(N-m)\" : train[\"motor_torque(N-m)\"].mean(),\n",
        "    \"generator_temperature(°C)\" : train[\"generator_temperature(°C)\"].mean(),\n",
        "    \"atmospheric_pressure(Pascal)\" : train[\"atmospheric_pressure(Pascal)\"].mean(),\n",
        "    \"area_temperature(°C)\" : train[\"area_temperature(°C)\"].mean(),\n",
        "    \"windmill_body_temperature(°C)\" : train[\"windmill_body_temperature(°C)\"].mean(),\n",
        "    \"wind_direction(°)\" : train[\"wind_direction(°)\"].mean(),\n",
        "    \"resistance(ohm)\" : train[\"resistance(ohm)\"].mean(),\n",
        "    \"rotor_torque(N-m)\" : train[\"rotor_torque(N-m)\"].mean(),\n",
        "    \"blade_length(m)\" : train[\"blade_length(m)\"].mean(),\n",
        "    \"blade_breadth(m)\" : train[\"blade_breadth(m)\"].mean(),\n",
        "    \"windmill_height(m)\" : train[\"windmill_height(m)\"].mean(),\n",
        "    \"windmill_generated_power(kW/h)\" : train[\"windmill_generated_power(kW/h)\"].mean()\n",
        "    })"
      ],
      "execution_count": null,
      "outputs": []
    },
    {
      "cell_type": "code",
      "metadata": {
        "colab": {
          "background_save": true
        },
        "id": "plwRnWkBoj_w",
        "outputId": "84d21306-69b1-4705-98e0-1a1a21b982cb"
      },
      "source": [
        "sns.heatmap(train.isnull(),yticklabels=False,cbar=False,cmap=\"viridis\")"
      ],
      "execution_count": null,
      "outputs": [
        {
          "data": {
            "text/plain": [
              "<matplotlib.axes._subplots.AxesSubplot at 0x7f9eec23dd90>"
            ]
          },
          "execution_count": null,
          "metadata": {},
          "output_type": "execute_result"
        },
        {
          "data": {
            "image/png": "[encoded data removed]",
            "text/plain": [
              "<Figure size 432x288 with 1 Axes>"
            ]
          },
          "metadata": {},
          "output_type": "display_data"
        }
      ]
    },
    {
      "cell_type": "markdown",
      "metadata": {
        "id": "ZdAfSBymorHB"
      },
      "source": [
        "**Handling categorial NaN values**"
      ]
    },
    {
      "cell_type": "code",
      "metadata": {
        "colab": {
          "background_save": true
        },
        "id": "xDeEX6UqomTz",
        "outputId": "973543bd-966d-4019-bcf7-fc4976c8e376"
      },
      "source": [
        "train[\"cloud_level\"].value_counts().plot.bar()\n",
        "plt.show()\n",
        "train[\"turbine_status\"].value_counts().plot.bar()\n",
        "plt.show()"
      ],
      "execution_count": null,
      "outputs": [
        {
          "data": {
            "image/png": "[encoded data removed]",
            "text/plain": [
              "<Figure size 432x288 with 1 Axes>"
            ]
          },
          "metadata": {},
          "output_type": "display_data"
        },
        {
          "data": {
            "image/png": "[encoded data removed]",
            "text/plain": [
              "<Figure size 432x288 with 1 Axes>"
            ]
          },
          "metadata": {},
          "output_type": "display_data"
        }
      ]
    },
    {
      "cell_type": "code",
      "metadata": {
        "colab": {
          "background_save": true
        },
        "id": "aF2d9ToLo81e",
        "outputId": "cfc3e6bb-9dd1-4861-81d2-d050b4a145e6"
      },
      "source": [
        "train[\"turbine_status\"].mode()"
      ],
      "execution_count": null,
      "outputs": [
        {
          "data": {
            "text/plain": [
              "0    BB\n",
              "dtype: object"
            ]
          },
          "execution_count": null,
          "metadata": {},
          "output_type": "execute_result"
        }
      ]
    },
    {
      "cell_type": "code",
      "metadata": {
        "colab": {
          "background_save": true
        },
        "id": "PcgTo-sdpQPX"
      },
      "source": [
        "train[\"cloud_level\"].fillna(\"Low\",inplace=True)\n",
        "train[\"turbine_status\"].fillna(\"BB\",inplace=True)"
      ],
      "execution_count": null,
      "outputs": []
    },
    {
      "cell_type": "code",
      "metadata": {
        "colab": {
          "background_save": true
        },
        "id": "LgLjTbI3pSfL",
        "outputId": "b7b86faf-b26b-47a6-b7f3-259c3d940798"
      },
      "source": [
        "sns.heatmap(train.isnull(),yticklabels=False,cbar=False,cmap=\"viridis\")"
      ],
      "execution_count": null,
      "outputs": [
        {
          "data": {
            "text/plain": [
              "<matplotlib.axes._subplots.AxesSubplot at 0x7f9eebd47650>"
            ]
          },
          "execution_count": null,
          "metadata": {},
          "output_type": "execute_result"
        },
        {
          "data": {
            "image/png": "[encoded data removed]",
            "text/plain": [
              "<Figure size 432x288 with 1 Axes>"
            ]
          },
          "metadata": {},
          "output_type": "display_data"
        }
      ]
    },
    {
      "cell_type": "markdown",
      "metadata": {
        "id": "CJWdBXeOpYee"
      },
      "source": [
        "**Feature Engineering**"
      ]
    },
    {
      "cell_type": "code",
      "metadata": {
        "colab": {
          "background_save": true
        },
        "id": "eIDvB2YSpVjz",
        "outputId": "3ddb927c-8788-46d1-e25f-a72a17bb44f1"
      },
      "source": [
        "train['datetime']= pd.to_datetime(train['datetime'])\n",
        "train = pd.get_dummies(data=train,columns=[\"cloud_level\",\"turbine_status\"])\n",
        "train.head()"
      ],
      "execution_count": null,
      "outputs": [
        {
          "data": {
            "text/html": [
              "<div>\n",
              "<style scoped>\n",
              "    .dataframe tbody tr th:only-of-type {\n",
              "        vertical-align: middle;\n",
              "    }\n",
              "\n",
              "    .dataframe tbody tr th {\n",
              "        vertical-align: top;\n",
              "    }\n",
              "\n",
              "    .dataframe thead th {\n",
              "        text-align: right;\n",
              "    }\n",
              "</style>\n",
              "<table border=\"1\" class=\"dataframe\">\n",
              "  <thead>\n",
              "    <tr style=\"text-align: right;\">\n",
              "      <th></th>\n",
              "      <th>tracking_id</th>\n",
              "      <th>datetime</th>\n",
              "      <th>wind_speed(m/s)</th>\n",
              "      <th>atmospheric_temperature(°C)</th>\n",
              "      <th>shaft_temperature(°C)</th>\n",
              "      <th>blades_angle(°)</th>\n",
              "      <th>gearbox_temperature(°C)</th>\n",
              "      <th>engine_temperature(°C)</th>\n",
              "      <th>motor_torque(N-m)</th>\n",
              "      <th>generator_temperature(°C)</th>\n",
              "      <th>atmospheric_pressure(Pascal)</th>\n",
              "      <th>area_temperature(°C)</th>\n",
              "      <th>windmill_body_temperature(°C)</th>\n",
              "      <th>wind_direction(°)</th>\n",
              "      <th>resistance(ohm)</th>\n",
              "      <th>rotor_torque(N-m)</th>\n",
              "      <th>blade_length(m)</th>\n",
              "      <th>blade_breadth(m)</th>\n",
              "      <th>windmill_height(m)</th>\n",
              "      <th>windmill_generated_power(kW/h)</th>\n",
              "      <th>cloud_level_Extremely Low</th>\n",
              "      <th>cloud_level_Low</th>\n",
              "      <th>cloud_level_Medium</th>\n",
              "      <th>turbine_status_A</th>\n",
              "      <th>turbine_status_A2</th>\n",
              "      <th>turbine_status_AAA</th>\n",
              "      <th>turbine_status_AB</th>\n",
              "      <th>turbine_status_ABC</th>\n",
              "      <th>turbine_status_AC</th>\n",
              "      <th>turbine_status_B</th>\n",
              "      <th>turbine_status_B2</th>\n",
              "      <th>turbine_status_BA</th>\n",
              "      <th>turbine_status_BB</th>\n",
              "      <th>turbine_status_BBB</th>\n",
              "      <th>turbine_status_BCB</th>\n",
              "      <th>turbine_status_BD</th>\n",
              "      <th>turbine_status_D</th>\n",
              "    </tr>\n",
              "  </thead>\n",
              "  <tbody>\n",
              "    <tr>\n",
              "      <th>0</th>\n",
              "      <td>WM_33725</td>\n",
              "      <td>2019-08-04 14:33:00</td>\n",
              "      <td>94.820023</td>\n",
              "      <td>-99.000000</td>\n",
              "      <td>41.723019</td>\n",
              "      <td>-0.903423</td>\n",
              "      <td>82.410573</td>\n",
              "      <td>42.523015</td>\n",
              "      <td>2563.124522</td>\n",
              "      <td>76.665560</td>\n",
              "      <td>103402.96190</td>\n",
              "      <td>26.897875</td>\n",
              "      <td>20.799761</td>\n",
              "      <td>239.836388</td>\n",
              "      <td>2730.310605</td>\n",
              "      <td>42.084666</td>\n",
              "      <td>2.217542</td>\n",
              "      <td>0.314065</td>\n",
              "      <td>24.281689</td>\n",
              "      <td>6.766521</td>\n",
              "      <td>0</td>\n",
              "      <td>0</td>\n",
              "      <td>1</td>\n",
              "      <td>0</td>\n",
              "      <td>0</td>\n",
              "      <td>0</td>\n",
              "      <td>0</td>\n",
              "      <td>0</td>\n",
              "      <td>0</td>\n",
              "      <td>0</td>\n",
              "      <td>0</td>\n",
              "      <td>1</td>\n",
              "      <td>0</td>\n",
              "      <td>0</td>\n",
              "      <td>0</td>\n",
              "      <td>0</td>\n",
              "      <td>0</td>\n",
              "    </tr>\n",
              "    <tr>\n",
              "      <th>1</th>\n",
              "      <td>WM_698</td>\n",
              "      <td>2018-11-05 10:13:00</td>\n",
              "      <td>241.832734</td>\n",
              "      <td>27.764785</td>\n",
              "      <td>-99.000000</td>\n",
              "      <td>-99.000000</td>\n",
              "      <td>44.104919</td>\n",
              "      <td>46.258870</td>\n",
              "      <td>2372.384119</td>\n",
              "      <td>78.129803</td>\n",
              "      <td>17030.90408</td>\n",
              "      <td>39.801469</td>\n",
              "      <td>20.799761</td>\n",
              "      <td>337.944723</td>\n",
              "      <td>1780.207200</td>\n",
              "      <td>107.888643</td>\n",
              "      <td>4.210346</td>\n",
              "      <td>0.448494</td>\n",
              "      <td>27.262139</td>\n",
              "      <td>5.966275</td>\n",
              "      <td>0</td>\n",
              "      <td>0</td>\n",
              "      <td>1</td>\n",
              "      <td>0</td>\n",
              "      <td>1</td>\n",
              "      <td>0</td>\n",
              "      <td>0</td>\n",
              "      <td>0</td>\n",
              "      <td>0</td>\n",
              "      <td>0</td>\n",
              "      <td>0</td>\n",
              "      <td>0</td>\n",
              "      <td>0</td>\n",
              "      <td>0</td>\n",
              "      <td>0</td>\n",
              "      <td>0</td>\n",
              "      <td>0</td>\n",
              "    </tr>\n",
              "    <tr>\n",
              "      <th>2</th>\n",
              "      <td>WM_39146</td>\n",
              "      <td>2019-09-14 14:03:00</td>\n",
              "      <td>95.484724</td>\n",
              "      <td>0.383727</td>\n",
              "      <td>41.855473</td>\n",
              "      <td>12.652763</td>\n",
              "      <td>42.322098</td>\n",
              "      <td>42.878552</td>\n",
              "      <td>1657.169646</td>\n",
              "      <td>67.654469</td>\n",
              "      <td>16125.92711</td>\n",
              "      <td>36.116065</td>\n",
              "      <td>45.033197</td>\n",
              "      <td>227.850294</td>\n",
              "      <td>1666.049900</td>\n",
              "      <td>-42.931459</td>\n",
              "      <td>2.719475</td>\n",
              "      <td>0.302321</td>\n",
              "      <td>27.366127</td>\n",
              "      <td>2.874342</td>\n",
              "      <td>0</td>\n",
              "      <td>0</td>\n",
              "      <td>1</td>\n",
              "      <td>0</td>\n",
              "      <td>0</td>\n",
              "      <td>0</td>\n",
              "      <td>0</td>\n",
              "      <td>1</td>\n",
              "      <td>0</td>\n",
              "      <td>0</td>\n",
              "      <td>0</td>\n",
              "      <td>0</td>\n",
              "      <td>0</td>\n",
              "      <td>0</td>\n",
              "      <td>0</td>\n",
              "      <td>0</td>\n",
              "      <td>0</td>\n",
              "    </tr>\n",
              "    <tr>\n",
              "      <th>3</th>\n",
              "      <td>WM_6757</td>\n",
              "      <td>2018-12-25 15:33:00</td>\n",
              "      <td>238.819424</td>\n",
              "      <td>-99.000000</td>\n",
              "      <td>45.443914</td>\n",
              "      <td>15.115323</td>\n",
              "      <td>44.759643</td>\n",
              "      <td>47.282101</td>\n",
              "      <td>2888.134079</td>\n",
              "      <td>95.389974</td>\n",
              "      <td>18689.73234</td>\n",
              "      <td>46.020045</td>\n",
              "      <td>44.827154</td>\n",
              "      <td>492.081520</td>\n",
              "      <td>1964.502895</td>\n",
              "      <td>42.744596</td>\n",
              "      <td>4.857385</td>\n",
              "      <td>0.367140</td>\n",
              "      <td>24.287767</td>\n",
              "      <td>14.851089</td>\n",
              "      <td>0</td>\n",
              "      <td>1</td>\n",
              "      <td>0</td>\n",
              "      <td>0</td>\n",
              "      <td>0</td>\n",
              "      <td>0</td>\n",
              "      <td>0</td>\n",
              "      <td>1</td>\n",
              "      <td>0</td>\n",
              "      <td>0</td>\n",
              "      <td>0</td>\n",
              "      <td>0</td>\n",
              "      <td>0</td>\n",
              "      <td>0</td>\n",
              "      <td>0</td>\n",
              "      <td>0</td>\n",
              "      <td>0</td>\n",
              "    </tr>\n",
              "    <tr>\n",
              "      <th>4</th>\n",
              "      <td>WM_21521</td>\n",
              "      <td>2019-05-04 03:13:00</td>\n",
              "      <td>10.722890</td>\n",
              "      <td>0.383727</td>\n",
              "      <td>41.981183</td>\n",
              "      <td>1.715696</td>\n",
              "      <td>-17.616459</td>\n",
              "      <td>43.469852</td>\n",
              "      <td>781.695419</td>\n",
              "      <td>37.423065</td>\n",
              "      <td>114468.16900</td>\n",
              "      <td>34.572941</td>\n",
              "      <td>-99.000000</td>\n",
              "      <td>259.274601</td>\n",
              "      <td>1177.516152</td>\n",
              "      <td>13.387289</td>\n",
              "      <td>2.254034</td>\n",
              "      <td>0.453374</td>\n",
              "      <td>27.971650</td>\n",
              "      <td>3.519074</td>\n",
              "      <td>0</td>\n",
              "      <td>0</td>\n",
              "      <td>1</td>\n",
              "      <td>0</td>\n",
              "      <td>0</td>\n",
              "      <td>1</td>\n",
              "      <td>0</td>\n",
              "      <td>0</td>\n",
              "      <td>0</td>\n",
              "      <td>0</td>\n",
              "      <td>0</td>\n",
              "      <td>0</td>\n",
              "      <td>0</td>\n",
              "      <td>0</td>\n",
              "      <td>0</td>\n",
              "      <td>0</td>\n",
              "      <td>0</td>\n",
              "    </tr>\n",
              "  </tbody>\n",
              "</table>\n",
              "</div>"
            ],
            "text/plain": [
              "  tracking_id            datetime  ...  turbine_status_BD  turbine_status_D\n",
              "0    WM_33725 2019-08-04 14:33:00  ...                  0                 0\n",
              "1      WM_698 2018-11-05 10:13:00  ...                  0                 0\n",
              "2    WM_39146 2019-09-14 14:03:00  ...                  0                 0\n",
              "3     WM_6757 2018-12-25 15:33:00  ...                  0                 0\n",
              "4    WM_21521 2019-05-04 03:13:00  ...                  0                 0\n",
              "\n",
              "[5 rows x 37 columns]"
            ]
          },
          "execution_count": null,
          "metadata": {},
          "output_type": "execute_result"
        }
      ]
    },
    {
      "cell_type": "code",
      "metadata": {
        "colab": {
          "background_save": true
        },
        "id": "mQgHCMOcpe7q",
        "outputId": "9df22ac9-6274-49ce-fbfd-f9a4ebd5a78b"
      },
      "source": [
        "train.shape"
      ],
      "execution_count": null,
      "outputs": [
        {
          "data": {
            "text/plain": [
              "(28200, 37)"
            ]
          },
          "execution_count": null,
          "metadata": {},
          "output_type": "execute_result"
        }
      ]
    },
    {
      "cell_type": "markdown",
      "metadata": {
        "id": "uXAEudyEplAP"
      },
      "source": [
        "**Data Visualization**"
      ]
    },
    {
      "cell_type": "code",
      "metadata": {
        "colab": {
          "background_save": true
        },
        "id": "-3tOIgUxpiM2",
        "outputId": "9658c415-cc6d-49eb-fbde-155e14614c36"
      },
      "source": [
        "train.dtypes"
      ],
      "execution_count": null,
      "outputs": [
        {
          "data": {
            "text/plain": [
              "tracking_id                               object\n",
              "datetime                          datetime64[ns]\n",
              "wind_speed(m/s)                          float64\n",
              "atmospheric_temperature(°C)              float64\n",
              "shaft_temperature(°C)                    float64\n",
              "blades_angle(°)                          float64\n",
              "gearbox_temperature(°C)                  float64\n",
              "engine_temperature(°C)                   float64\n",
              "motor_torque(N-m)                        float64\n",
              "generator_temperature(°C)                float64\n",
              "atmospheric_pressure(Pascal)             float64\n",
              "area_temperature(°C)                     float64\n",
              "windmill_body_temperature(°C)            float64\n",
              "wind_direction(°)                        float64\n",
              "resistance(ohm)                          float64\n",
              "rotor_torque(N-m)                        float64\n",
              "blade_length(m)                          float64\n",
              "blade_breadth(m)                         float64\n",
              "windmill_height(m)                       float64\n",
              "windmill_generated_power(kW/h)           float64\n",
              "cloud_level_Extremely Low                  uint8\n",
              "cloud_level_Low                            uint8\n",
              "cloud_level_Medium                         uint8\n",
              "turbine_status_A                           uint8\n",
              "turbine_status_A2                          uint8\n",
              "turbine_status_AAA                         uint8\n",
              "turbine_status_AB                          uint8\n",
              "turbine_status_ABC                         uint8\n",
              "turbine_status_AC                          uint8\n",
              "turbine_status_B                           uint8\n",
              "turbine_status_B2                          uint8\n",
              "turbine_status_BA                          uint8\n",
              "turbine_status_BB                          uint8\n",
              "turbine_status_BBB                         uint8\n",
              "turbine_status_BCB                         uint8\n",
              "turbine_status_BD                          uint8\n",
              "turbine_status_D                           uint8\n",
              "dtype: object"
            ]
          },
          "execution_count": null,
          "metadata": {},
          "output_type": "execute_result"
        }
      ]
    },
    {
      "cell_type": "code",
      "metadata": {
        "colab": {
          "background_save": true
        },
        "id": "h8H8nXdlpr4w"
      },
      "source": [
        "col = [ 'wind_speed(m/s)','atmospheric_temperature(°C)', 'shaft_temperature(°C)',\n",
        "       'blades_angle(°)', 'gearbox_temperature(°C)', 'engine_temperature(°C)',\n",
        "       'motor_torque(N-m)', 'generator_temperature(°C)',\n",
        "       'atmospheric_pressure(Pascal)', 'area_temperature(°C)',\n",
        "       'windmill_body_temperature(°C)', \n",
        "       'wind_direction(°)', 'resistance(ohm)',\n",
        "       'rotor_torque(N-m)', 'blade_length(m)',\n",
        "       'blade_breadth(m)', 'windmill_height(m)']"
      ],
      "execution_count": null,
      "outputs": []
    },
    {
      "cell_type": "code",
      "metadata": {
        "id": "ELN4RsMopwJQ"
      },
      "source": [
        "for i in col:\n",
        "    plt.figure(figsize=(8,4))\n",
        "    sns.scatterplot(data=train, x=i, y='windmill_generated_power(kW/h)')"
      ],
      "execution_count": null,
      "outputs": []
    },
    {
      "cell_type": "code",
      "metadata": {
        "colab": {
          "background_save": true
        },
        "id": "AiOd9bbTpyxC",
        "outputId": "5f452da9-e6fa-4373-e80d-108a86559e79"
      },
      "source": [
        "train[train.columns[2:]].corr()['windmill_generated_power(kW/h)'][:]"
      ],
      "execution_count": null,
      "outputs": [
        {
          "data": {
            "text/plain": [
              "wind_speed(m/s)                   0.062246\n",
              "atmospheric_temperature(°C)      -0.000941\n",
              "shaft_temperature(°C)             0.046366\n",
              "blades_angle(°)                  -0.153607\n",
              "gearbox_temperature(°C)           0.053017\n",
              "engine_temperature(°C)            0.271819\n",
              "motor_torque(N-m)                 0.503155\n",
              "generator_temperature(°C)         0.390092\n",
              "atmospheric_pressure(Pascal)     -0.012578\n",
              "area_temperature(°C)              0.383173\n",
              "windmill_body_temperature(°C)     0.003054\n",
              "wind_direction(°)                 0.311539\n",
              "resistance(ohm)                   0.239190\n",
              "rotor_torque(N-m)                 0.184737\n",
              "blade_length(m)                   0.012881\n",
              "blade_breadth(m)                  0.085642\n",
              "windmill_height(m)                0.003855\n",
              "windmill_generated_power(kW/h)    1.000000\n",
              "cloud_level_Extremely Low        -0.170808\n",
              "cloud_level_Low                   0.002305\n",
              "cloud_level_Medium                0.032698\n",
              "turbine_status_A                  0.015946\n",
              "turbine_status_A2                 0.005846\n",
              "turbine_status_AAA                0.006576\n",
              "turbine_status_AB                -0.001957\n",
              "turbine_status_ABC               -0.002955\n",
              "turbine_status_AC                -0.002294\n",
              "turbine_status_B                 -0.007170\n",
              "turbine_status_B2                 0.006106\n",
              "turbine_status_BA                -0.007354\n",
              "turbine_status_BB                 0.000331\n",
              "turbine_status_BBB               -0.004331\n",
              "turbine_status_BCB                0.000368\n",
              "turbine_status_BD                -0.006692\n",
              "turbine_status_D                 -0.003043\n",
              "Name: windmill_generated_power(kW/h), dtype: float64"
            ]
          },
          "execution_count": null,
          "metadata": {},
          "output_type": "execute_result"
        }
      ]
    },
    {
      "cell_type": "code",
      "metadata": {
        "colab": {
          "background_save": true
        },
        "id": "thrKGbABp2j-"
      },
      "source": [
        "train.drop([\"atmospheric_temperature(°C)\"],axis=1,inplace=True)"
      ],
      "execution_count": null,
      "outputs": []
    },
    {
      "cell_type": "markdown",
      "metadata": {
        "id": "XAq6ZunQp7y_"
      },
      "source": [
        "**Preprocessing the test dataset**"
      ]
    },
    {
      "cell_type": "code",
      "metadata": {
        "colab": {
          "background_save": true
        },
        "id": "fQZlaDiwp5Kg",
        "outputId": "b61a445a-ce76-4c53-f53a-2b4a2e23cb71"
      },
      "source": [
        "test.head()"
      ],
      "execution_count": null,
      "outputs": [
        {
          "data": {
            "text/html": [
              "<div>\n",
              "<style scoped>\n",
              "    .dataframe tbody tr th:only-of-type {\n",
              "        vertical-align: middle;\n",
              "    }\n",
              "\n",
              "    .dataframe tbody tr th {\n",
              "        vertical-align: top;\n",
              "    }\n",
              "\n",
              "    .dataframe thead th {\n",
              "        text-align: right;\n",
              "    }\n",
              "</style>\n",
              "<table border=\"1\" class=\"dataframe\">\n",
              "  <thead>\n",
              "    <tr style=\"text-align: right;\">\n",
              "      <th></th>\n",
              "      <th>tracking_id</th>\n",
              "      <th>datetime</th>\n",
              "      <th>wind_speed(m/s)</th>\n",
              "      <th>atmospheric_temperature(°C)</th>\n",
              "      <th>shaft_temperature(°C)</th>\n",
              "      <th>blades_angle(°)</th>\n",
              "      <th>gearbox_temperature(°C)</th>\n",
              "      <th>engine_temperature(°C)</th>\n",
              "      <th>motor_torque(N-m)</th>\n",
              "      <th>generator_temperature(°C)</th>\n",
              "      <th>atmospheric_pressure(Pascal)</th>\n",
              "      <th>area_temperature(°C)</th>\n",
              "      <th>windmill_body_temperature(°C)</th>\n",
              "      <th>wind_direction(°)</th>\n",
              "      <th>resistance(ohm)</th>\n",
              "      <th>rotor_torque(N-m)</th>\n",
              "      <th>turbine_status</th>\n",
              "      <th>cloud_level</th>\n",
              "      <th>blade_length(m)</th>\n",
              "      <th>blade_breadth(m)</th>\n",
              "      <th>windmill_height(m)</th>\n",
              "    </tr>\n",
              "  </thead>\n",
              "  <tbody>\n",
              "    <tr>\n",
              "      <th>0</th>\n",
              "      <td>WM_19817</td>\n",
              "      <td>2019-04-17 08:53:20</td>\n",
              "      <td>94.324266</td>\n",
              "      <td>17.641186</td>\n",
              "      <td>89.714193</td>\n",
              "      <td>51.146788</td>\n",
              "      <td>40.460560</td>\n",
              "      <td>39.594734</td>\n",
              "      <td>1073.202715</td>\n",
              "      <td>66.830037</td>\n",
              "      <td>16681.044117</td>\n",
              "      <td>24.004812</td>\n",
              "      <td>43.756693</td>\n",
              "      <td>445.976992</td>\n",
              "      <td>1664.222023</td>\n",
              "      <td>21.912243</td>\n",
              "      <td>BA</td>\n",
              "      <td>Medium</td>\n",
              "      <td>3.185837</td>\n",
              "      <td>0.403965</td>\n",
              "      <td>25.572431</td>\n",
              "    </tr>\n",
              "    <tr>\n",
              "      <th>1</th>\n",
              "      <td>WM_18723</td>\n",
              "      <td>2019-03-30 07:43:20</td>\n",
              "      <td>10.088870</td>\n",
              "      <td>13.978119</td>\n",
              "      <td>43.272846</td>\n",
              "      <td>46.516394</td>\n",
              "      <td>40.027788</td>\n",
              "      <td>41.176860</td>\n",
              "      <td>517.436430</td>\n",
              "      <td>37.284163</td>\n",
              "      <td>NaN</td>\n",
              "      <td>29.431813</td>\n",
              "      <td>42.728174</td>\n",
              "      <td>499.595287</td>\n",
              "      <td>1165.111992</td>\n",
              "      <td>-35.050093</td>\n",
              "      <td>A</td>\n",
              "      <td>Medium</td>\n",
              "      <td>3.016603</td>\n",
              "      <td>0.444755</td>\n",
              "      <td>24.371823</td>\n",
              "    </tr>\n",
              "    <tr>\n",
              "      <th>2</th>\n",
              "      <td>WM_34552</td>\n",
              "      <td>2019-08-10 11:33:20</td>\n",
              "      <td>347.152090</td>\n",
              "      <td>31.423035</td>\n",
              "      <td>41.076640</td>\n",
              "      <td>26.931602</td>\n",
              "      <td>43.109122</td>\n",
              "      <td>43.439556</td>\n",
              "      <td>1480.716492</td>\n",
              "      <td>70.010762</td>\n",
              "      <td>214812.836175</td>\n",
              "      <td>29.924235</td>\n",
              "      <td>43.256122</td>\n",
              "      <td>245.432231</td>\n",
              "      <td>1667.720491</td>\n",
              "      <td>27.195302</td>\n",
              "      <td>B2</td>\n",
              "      <td>Medium</td>\n",
              "      <td>2.611941</td>\n",
              "      <td>0.387368</td>\n",
              "      <td>27.654677</td>\n",
              "    </tr>\n",
              "    <tr>\n",
              "      <th>3</th>\n",
              "      <td>WM_28570</td>\n",
              "      <td>2019-06-26 03:53:20</td>\n",
              "      <td>24.471997</td>\n",
              "      <td>-99.000000</td>\n",
              "      <td>14.375078</td>\n",
              "      <td>66.513953</td>\n",
              "      <td>13.741253</td>\n",
              "      <td>15.577472</td>\n",
              "      <td>887.979475</td>\n",
              "      <td>41.445258</td>\n",
              "      <td>NaN</td>\n",
              "      <td>23.886434</td>\n",
              "      <td>13.501595</td>\n",
              "      <td>NaN</td>\n",
              "      <td>1329.744740</td>\n",
              "      <td>15.245757</td>\n",
              "      <td>BBB</td>\n",
              "      <td>Low</td>\n",
              "      <td>2.866805</td>\n",
              "      <td>0.450478</td>\n",
              "      <td>24.189426</td>\n",
              "    </tr>\n",
              "    <tr>\n",
              "      <th>4</th>\n",
              "      <td>WM_36934</td>\n",
              "      <td>2019-08-27 16:43:20</td>\n",
              "      <td>96.997026</td>\n",
              "      <td>33.281836</td>\n",
              "      <td>41.405192</td>\n",
              "      <td>1.843112</td>\n",
              "      <td>121.572907</td>\n",
              "      <td>43.934587</td>\n",
              "      <td>2053.916354</td>\n",
              "      <td>68.007787</td>\n",
              "      <td>16833.546517</td>\n",
              "      <td>35.906889</td>\n",
              "      <td>-99.000000</td>\n",
              "      <td>442.425744</td>\n",
              "      <td>691.408996</td>\n",
              "      <td>34.257024</td>\n",
              "      <td>A</td>\n",
              "      <td>Low</td>\n",
              "      <td>3.549672</td>\n",
              "      <td>0.368355</td>\n",
              "      <td>4.885440</td>\n",
              "    </tr>\n",
              "  </tbody>\n",
              "</table>\n",
              "</div>"
            ],
            "text/plain": [
              "  tracking_id             datetime  ...  blade_breadth(m)  windmill_height(m)\n",
              "0    WM_19817  2019-04-17 08:53:20  ...          0.403965           25.572431\n",
              "1    WM_18723  2019-03-30 07:43:20  ...          0.444755           24.371823\n",
              "2    WM_34552  2019-08-10 11:33:20  ...          0.387368           27.654677\n",
              "3    WM_28570  2019-06-26 03:53:20  ...          0.450478           24.189426\n",
              "4    WM_36934  2019-08-27 16:43:20  ...          0.368355            4.885440\n",
              "\n",
              "[5 rows x 21 columns]"
            ]
          },
          "execution_count": null,
          "metadata": {},
          "output_type": "execute_result"
        }
      ]
    },
    {
      "cell_type": "code",
      "metadata": {
        "id": "sD_ICM3fqBCa"
      },
      "source": [
        "print(test.shape)\n",
        "test.info()"
      ],
      "execution_count": null,
      "outputs": []
    },
    {
      "cell_type": "markdown",
      "metadata": {
        "id": "9l623P5FqInE"
      },
      "source": [
        "**Handling NaN values**"
      ]
    },
    {
      "cell_type": "code",
      "metadata": {
        "id": "1PIfA7mSqF8h"
      },
      "source": [
        "test.isnull().sum()"
      ],
      "execution_count": null,
      "outputs": []
    },
    {
      "cell_type": "code",
      "metadata": {
        "id": "1D97MKjTqMNg"
      },
      "source": [
        "sns.heatmap(test.isnull(),yticklabels=False,cbar=False,cmap=\"viridis\")"
      ],
      "execution_count": null,
      "outputs": []
    },
    {
      "cell_type": "code",
      "metadata": {
        "colab": {
          "background_save": true
        },
        "id": "Wgr7q7uCqO0o"
      },
      "source": [
        "test =  test.fillna({\n",
        "    \"wind_speed(m/s)\" : test[\"wind_speed(m/s)\"].mean(),\n",
        "    \"atmospheric_temperature(°C)\" : test[\"atmospheric_temperature(°C)\"].mean(),\n",
        "    \"shaft_temperature(°C)\" : test[\"shaft_temperature(°C)\"].mean(),\n",
        "    \"blades_angle(°)\" : test[\"blades_angle(°)\"].mean(),\n",
        "    \"gearbox_temperature(°C)\" : test[\"gearbox_temperature(°C)\"].mean(),\n",
        "    \"engine_temperature(°C)\" : test[\"engine_temperature(°C)\"].mean(),\n",
        "    \"motor_torque(N-m)\" : test[\"motor_torque(N-m)\"].mean(),\n",
        "    \"generator_temperature(°C)\" : test[\"generator_temperature(°C)\"].mean(),\n",
        "    \"atmospheric_pressure(Pascal)\" : test[\"atmospheric_pressure(Pascal)\"].mean(),\n",
        "    \"area_temperature(°C)\" : test[\"area_temperature(°C)\"].mean(),\n",
        "    \"windmill_body_temperature(°C)\" : train[\"windmill_body_temperature(°C)\"].mean(),\n",
        "    \"wind_direction(°)\" : test[\"wind_direction(°)\"].mean(),\n",
        "    \"rotor_torque(N-m)\" : test[\"rotor_torque(N-m)\"].mean(),\n",
        "    \"blade_length(m)\" : test[\"blade_length(m)\"].mean(),\n",
        "    \"windmill_height(m)\" : test[\"windmill_height(m)\"].mean(),\n",
        "    })"
      ],
      "execution_count": null,
      "outputs": []
    },
    {
      "cell_type": "code",
      "metadata": {
        "id": "0yh5q65VqSUw"
      },
      "source": [
        "sns.heatmap(test.isnull(),yticklabels=False,cbar=False,cmap=\"viridis\")"
      ],
      "execution_count": null,
      "outputs": []
    },
    {
      "cell_type": "markdown",
      "metadata": {
        "id": "2wNNTGkXqXLv"
      },
      "source": [
        "**Handling categorial NaN values**"
      ]
    },
    {
      "cell_type": "code",
      "metadata": {
        "colab": {
          "background_save": true
        },
        "id": "4YFAhAiXqUqC",
        "outputId": "9eacb847-815a-43f2-fb59-692ac9dc8f8b"
      },
      "source": [
        "test[\"cloud_level\"].value_counts().plot.bar()\n",
        "plt.show()\n",
        "test[\"turbine_status\"].value_counts().plot.bar()\n",
        "plt.show()"
      ],
      "execution_count": null,
      "outputs": [
        {
          "data": {
            "image/png": "[encoded data removed]",
            "text/plain": [
              "<Figure size 432x288 with 1 Axes>"
            ]
          },
          "metadata": {},
          "output_type": "display_data"
        },
        {
          "data": {
            "image/png": "[encoded data removed]",
            "text/plain": [
              "<Figure size 432x288 with 1 Axes>"
            ]
          },
          "metadata": {},
          "output_type": "display_data"
        }
      ]
    },
    {
      "cell_type": "code",
      "metadata": {
        "id": "eHUeOQAAqaMQ"
      },
      "source": [
        "print(test[\"cloud_level\"].mode())\n",
        "print(test[\"turbine_status\"].mode())"
      ],
      "execution_count": null,
      "outputs": []
    },
    {
      "cell_type": "code",
      "metadata": {
        "id": "UaiZXjN8qdcV"
      },
      "source": [
        "test[\"cloud_level\"].fillna(\"Low\",inplace=True)\n",
        "test[\"turbine_status\"].fillna(\"BB\",inplace=True)"
      ],
      "execution_count": null,
      "outputs": []
    },
    {
      "cell_type": "code",
      "metadata": {
        "id": "oJTAX7yRqgAr"
      },
      "source": [
        "sns.heatmap(test.isnull(),yticklabels=False,cbar=False,cmap=\"viridis\")"
      ],
      "execution_count": null,
      "outputs": []
    },
    {
      "cell_type": "markdown",
      "metadata": {
        "id": "iFztLwCEqmzY"
      },
      "source": [
        "**Feature Engineering**"
      ]
    },
    {
      "cell_type": "code",
      "metadata": {
        "id": "cWEcr9osqjjc"
      },
      "source": [
        "test['datetime']= pd.to_datetime(test['datetime'])\n",
        "test = pd.get_dummies(data=test,columns=[\"cloud_level\",\"turbine_status\"])\n",
        "test.head()"
      ],
      "execution_count": null,
      "outputs": []
    },
    {
      "cell_type": "code",
      "metadata": {
        "id": "wrlPJjgmqptg"
      },
      "source": [
        "test.dtypes"
      ],
      "execution_count": null,
      "outputs": []
    },
    {
      "cell_type": "markdown",
      "metadata": {
        "id": "5-9p0p7QqwL8"
      },
      "source": [
        "**Creating a model**"
      ]
    },
    {
      "cell_type": "code",
      "metadata": {
        "colab": {
          "background_save": true
        },
        "id": "oub0ObTsqscn",
        "outputId": "dfaacc14-da86-4c20-c18d-b86539442d08"
      },
      "source": [
        "print(train.shape)\n",
        "train.head()"
      ],
      "execution_count": null,
      "outputs": [
        {
          "name": "stdout",
          "output_type": "stream",
          "text": [
            "(28200, 36)\n"
          ]
        },
        {
          "data": {
            "text/html": [
              "<div>\n",
              "<style scoped>\n",
              "    .dataframe tbody tr th:only-of-type {\n",
              "        vertical-align: middle;\n",
              "    }\n",
              "\n",
              "    .dataframe tbody tr th {\n",
              "        vertical-align: top;\n",
              "    }\n",
              "\n",
              "    .dataframe thead th {\n",
              "        text-align: right;\n",
              "    }\n",
              "</style>\n",
              "<table border=\"1\" class=\"dataframe\">\n",
              "  <thead>\n",
              "    <tr style=\"text-align: right;\">\n",
              "      <th></th>\n",
              "      <th>tracking_id</th>\n",
              "      <th>datetime</th>\n",
              "      <th>wind_speed(m/s)</th>\n",
              "      <th>shaft_temperature(°C)</th>\n",
              "      <th>blades_angle(°)</th>\n",
              "      <th>gearbox_temperature(°C)</th>\n",
              "      <th>engine_temperature(°C)</th>\n",
              "      <th>motor_torque(N-m)</th>\n",
              "      <th>generator_temperature(°C)</th>\n",
              "      <th>atmospheric_pressure(Pascal)</th>\n",
              "      <th>area_temperature(°C)</th>\n",
              "      <th>windmill_body_temperature(°C)</th>\n",
              "      <th>wind_direction(°)</th>\n",
              "      <th>resistance(ohm)</th>\n",
              "      <th>rotor_torque(N-m)</th>\n",
              "      <th>blade_length(m)</th>\n",
              "      <th>blade_breadth(m)</th>\n",
              "      <th>windmill_height(m)</th>\n",
              "      <th>windmill_generated_power(kW/h)</th>\n",
              "      <th>cloud_level_Extremely Low</th>\n",
              "      <th>cloud_level_Low</th>\n",
              "      <th>cloud_level_Medium</th>\n",
              "      <th>turbine_status_A</th>\n",
              "      <th>turbine_status_A2</th>\n",
              "      <th>turbine_status_AAA</th>\n",
              "      <th>turbine_status_AB</th>\n",
              "      <th>turbine_status_ABC</th>\n",
              "      <th>turbine_status_AC</th>\n",
              "      <th>turbine_status_B</th>\n",
              "      <th>turbine_status_B2</th>\n",
              "      <th>turbine_status_BA</th>\n",
              "      <th>turbine_status_BB</th>\n",
              "      <th>turbine_status_BBB</th>\n",
              "      <th>turbine_status_BCB</th>\n",
              "      <th>turbine_status_BD</th>\n",
              "      <th>turbine_status_D</th>\n",
              "    </tr>\n",
              "  </thead>\n",
              "  <tbody>\n",
              "    <tr>\n",
              "      <th>0</th>\n",
              "      <td>WM_33725</td>\n",
              "      <td>2019-08-04 14:33:00</td>\n",
              "      <td>94.820023</td>\n",
              "      <td>41.723019</td>\n",
              "      <td>-0.903423</td>\n",
              "      <td>82.410573</td>\n",
              "      <td>42.523015</td>\n",
              "      <td>2563.124522</td>\n",
              "      <td>76.665560</td>\n",
              "      <td>103402.96190</td>\n",
              "      <td>26.897875</td>\n",
              "      <td>20.799761</td>\n",
              "      <td>239.836388</td>\n",
              "      <td>2730.310605</td>\n",
              "      <td>42.084666</td>\n",
              "      <td>2.217542</td>\n",
              "      <td>0.314065</td>\n",
              "      <td>24.281689</td>\n",
              "      <td>6.766521</td>\n",
              "      <td>0</td>\n",
              "      <td>0</td>\n",
              "      <td>1</td>\n",
              "      <td>0</td>\n",
              "      <td>0</td>\n",
              "      <td>0</td>\n",
              "      <td>0</td>\n",
              "      <td>0</td>\n",
              "      <td>0</td>\n",
              "      <td>0</td>\n",
              "      <td>0</td>\n",
              "      <td>1</td>\n",
              "      <td>0</td>\n",
              "      <td>0</td>\n",
              "      <td>0</td>\n",
              "      <td>0</td>\n",
              "      <td>0</td>\n",
              "    </tr>\n",
              "    <tr>\n",
              "      <th>1</th>\n",
              "      <td>WM_698</td>\n",
              "      <td>2018-11-05 10:13:00</td>\n",
              "      <td>241.832734</td>\n",
              "      <td>-99.000000</td>\n",
              "      <td>-99.000000</td>\n",
              "      <td>44.104919</td>\n",
              "      <td>46.258870</td>\n",
              "      <td>2372.384119</td>\n",
              "      <td>78.129803</td>\n",
              "      <td>17030.90408</td>\n",
              "      <td>39.801469</td>\n",
              "      <td>20.799761</td>\n",
              "      <td>337.944723</td>\n",
              "      <td>1780.207200</td>\n",
              "      <td>107.888643</td>\n",
              "      <td>4.210346</td>\n",
              "      <td>0.448494</td>\n",
              "      <td>27.262139</td>\n",
              "      <td>5.966275</td>\n",
              "      <td>0</td>\n",
              "      <td>0</td>\n",
              "      <td>1</td>\n",
              "      <td>0</td>\n",
              "      <td>1</td>\n",
              "      <td>0</td>\n",
              "      <td>0</td>\n",
              "      <td>0</td>\n",
              "      <td>0</td>\n",
              "      <td>0</td>\n",
              "      <td>0</td>\n",
              "      <td>0</td>\n",
              "      <td>0</td>\n",
              "      <td>0</td>\n",
              "      <td>0</td>\n",
              "      <td>0</td>\n",
              "      <td>0</td>\n",
              "    </tr>\n",
              "    <tr>\n",
              "      <th>2</th>\n",
              "      <td>WM_39146</td>\n",
              "      <td>2019-09-14 14:03:00</td>\n",
              "      <td>95.484724</td>\n",
              "      <td>41.855473</td>\n",
              "      <td>12.652763</td>\n",
              "      <td>42.322098</td>\n",
              "      <td>42.878552</td>\n",
              "      <td>1657.169646</td>\n",
              "      <td>67.654469</td>\n",
              "      <td>16125.92711</td>\n",
              "      <td>36.116065</td>\n",
              "      <td>45.033197</td>\n",
              "      <td>227.850294</td>\n",
              "      <td>1666.049900</td>\n",
              "      <td>-42.931459</td>\n",
              "      <td>2.719475</td>\n",
              "      <td>0.302321</td>\n",
              "      <td>27.366127</td>\n",
              "      <td>2.874342</td>\n",
              "      <td>0</td>\n",
              "      <td>0</td>\n",
              "      <td>1</td>\n",
              "      <td>0</td>\n",
              "      <td>0</td>\n",
              "      <td>0</td>\n",
              "      <td>0</td>\n",
              "      <td>1</td>\n",
              "      <td>0</td>\n",
              "      <td>0</td>\n",
              "      <td>0</td>\n",
              "      <td>0</td>\n",
              "      <td>0</td>\n",
              "      <td>0</td>\n",
              "      <td>0</td>\n",
              "      <td>0</td>\n",
              "      <td>0</td>\n",
              "    </tr>\n",
              "    <tr>\n",
              "      <th>3</th>\n",
              "      <td>WM_6757</td>\n",
              "      <td>2018-12-25 15:33:00</td>\n",
              "      <td>238.819424</td>\n",
              "      <td>45.443914</td>\n",
              "      <td>15.115323</td>\n",
              "      <td>44.759643</td>\n",
              "      <td>47.282101</td>\n",
              "      <td>2888.134079</td>\n",
              "      <td>95.389974</td>\n",
              "      <td>18689.73234</td>\n",
              "      <td>46.020045</td>\n",
              "      <td>44.827154</td>\n",
              "      <td>492.081520</td>\n",
              "      <td>1964.502895</td>\n",
              "      <td>42.744596</td>\n",
              "      <td>4.857385</td>\n",
              "      <td>0.367140</td>\n",
              "      <td>24.287767</td>\n",
              "      <td>14.851089</td>\n",
              "      <td>0</td>\n",
              "      <td>1</td>\n",
              "      <td>0</td>\n",
              "      <td>0</td>\n",
              "      <td>0</td>\n",
              "      <td>0</td>\n",
              "      <td>0</td>\n",
              "      <td>1</td>\n",
              "      <td>0</td>\n",
              "      <td>0</td>\n",
              "      <td>0</td>\n",
              "      <td>0</td>\n",
              "      <td>0</td>\n",
              "      <td>0</td>\n",
              "      <td>0</td>\n",
              "      <td>0</td>\n",
              "      <td>0</td>\n",
              "    </tr>\n",
              "    <tr>\n",
              "      <th>4</th>\n",
              "      <td>WM_21521</td>\n",
              "      <td>2019-05-04 03:13:00</td>\n",
              "      <td>10.722890</td>\n",
              "      <td>41.981183</td>\n",
              "      <td>1.715696</td>\n",
              "      <td>-17.616459</td>\n",
              "      <td>43.469852</td>\n",
              "      <td>781.695419</td>\n",
              "      <td>37.423065</td>\n",
              "      <td>114468.16900</td>\n",
              "      <td>34.572941</td>\n",
              "      <td>-99.000000</td>\n",
              "      <td>259.274601</td>\n",
              "      <td>1177.516152</td>\n",
              "      <td>13.387289</td>\n",
              "      <td>2.254034</td>\n",
              "      <td>0.453374</td>\n",
              "      <td>27.971650</td>\n",
              "      <td>3.519074</td>\n",
              "      <td>0</td>\n",
              "      <td>0</td>\n",
              "      <td>1</td>\n",
              "      <td>0</td>\n",
              "      <td>0</td>\n",
              "      <td>1</td>\n",
              "      <td>0</td>\n",
              "      <td>0</td>\n",
              "      <td>0</td>\n",
              "      <td>0</td>\n",
              "      <td>0</td>\n",
              "      <td>0</td>\n",
              "      <td>0</td>\n",
              "      <td>0</td>\n",
              "      <td>0</td>\n",
              "      <td>0</td>\n",
              "      <td>0</td>\n",
              "    </tr>\n",
              "  </tbody>\n",
              "</table>\n",
              "</div>"
            ],
            "text/plain": [
              "  tracking_id            datetime  ...  turbine_status_BD  turbine_status_D\n",
              "0    WM_33725 2019-08-04 14:33:00  ...                  0                 0\n",
              "1      WM_698 2018-11-05 10:13:00  ...                  0                 0\n",
              "2    WM_39146 2019-09-14 14:03:00  ...                  0                 0\n",
              "3     WM_6757 2018-12-25 15:33:00  ...                  0                 0\n",
              "4    WM_21521 2019-05-04 03:13:00  ...                  0                 0\n",
              "\n",
              "[5 rows x 36 columns]"
            ]
          },
          "execution_count": null,
          "metadata": {},
          "output_type": "execute_result"
        }
      ]
    },
    {
      "cell_type": "markdown",
      "metadata": {
        "id": "BQ9SE-e-xgLo"
      },
      "source": [
        ""
      ]
    },
    {
      "cell_type": "code",
      "metadata": {
        "id": "AbReF0haqz0I"
      },
      "source": [
        "print(test.shape)\n",
        "test.head()"
      ],
      "execution_count": null,
      "outputs": []
    },
    {
      "cell_type": "code",
      "metadata": {
        "id": "rMiwAhqoq2gI"
      },
      "source": [
        "test.drop([\"atmospheric_temperature(°C)\",\"tracking_id\",\"datetime\"],axis=1,inplace=True)"
      ],
      "execution_count": null,
      "outputs": []
    },
    {
      "cell_type": "code",
      "metadata": {
        "id": "aUu43SYrq7JL"
      },
      "source": [
        "x = train.drop([\"windmill_generated_power(kW/h)\",\"tracking_id\",\"datetime\"],axis=1)\n",
        "y = train[\"windmill_generated_power(kW/h)\"]"
      ],
      "execution_count": null,
      "outputs": []
    },
    {
      "cell_type": "code",
      "metadata": {
        "id": "5C7fpN2Cq-bv"
      },
      "source": [
        "from sklearn.model_selection import train_test_split"
      ],
      "execution_count": null,
      "outputs": []
    },
    {
      "cell_type": "code",
      "metadata": {
        "id": "3rLq8mEyrAej"
      },
      "source": [
        "xtrain,xtest,ytrain,ytest = train_test_split(x,y,test_size=0.2)"
      ],
      "execution_count": null,
      "outputs": []
    },
    {
      "cell_type": "code",
      "metadata": {
        "id": "Nn8u4_-zrCcr"
      },
      "source": [
        "xgb = XGBRegressor()\n",
        "xgb.fit(xtrain,ytrain)\n",
        "y_train_pred = xgb.predict(xtrain)\n",
        "y_test_pred = xgb.predict(xtest)\n",
        "print(r2_score(ytrain,y_train_pred))\n",
        "print(r2_score(ytest,y_test_pred))"
      ],
      "execution_count": null,
      "outputs": []
    },
    {
      "cell_type": "code",
      "metadata": {
        "colab": {
          "background_save": true
        },
        "id": "2j0HtgiVrENR",
        "outputId": "2de440a8-78a6-47c0-eb08-f21d9a8f889b"
      },
      "source": [
        "length = range(len(ytest))\n",
        "plt.plot(length,ytest,label=\"original\")\n",
        "plt.plot(length,y_test_pred,label=\"predicted\")\n",
        "plt.legend()\n",
        "plt.show()"
      ],
      "execution_count": null,
      "outputs": [
        {
          "data": {
            "image/png": "[encoded data removed]",
            "text/plain": [
              "<Figure size 432x288 with 1 Axes>"
            ]
          },
          "metadata": {},
          "output_type": "display_data"
        }
      ]
    },
    {
      "cell_type": "code",
      "metadata": {
        "colab": {
          "background_save": true
        },
        "id": "txpAhwBPrIjn"
      },
      "source": [
        "pred = xgb.predict(test) # Predicting for the test dataset"
      ],
      "execution_count": null,
      "outputs": []
    },
    {
      "cell_type": "code",
      "metadata": {
        "id": "2ZkJbpfTrNNa"
      },
      "source": [
        "pred"
      ],
      "execution_count": null,
      "outputs": []
    }
  ]
}